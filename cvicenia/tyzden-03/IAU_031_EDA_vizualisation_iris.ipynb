{
 "cells": [
  {
   "cell_type": "code",
   "execution_count": 1,
   "metadata": {},
   "outputs": [],
   "source": [
    "# -*- coding: utf-8 -*-\n",
    "#\n",
    "# Licensed under the Apache License, Version 2.0 (the \"License\");\n",
    "# you may not use this file except in compliance with the License.\n",
    "# You may obtain a copy of the License at\n",
    "#\n",
    "#    http://www.apache.org/licenses/LICENSE-2.0\n",
    "#\n",
    "# Unless required by applicable law or agreed to in writing, software\n",
    "# distributed under the License is distributed on an \"AS IS\" BASIS,\n",
    "# WITHOUT WARRANTIES OR CONDITIONS OF ANY KIND, either express or\n",
    "# implied.\n",
    "# See the License for the specific language governing permissions and\n",
    "# limitations under the License.\n",
    "#"
   ]
  },
  {
   "cell_type": "markdown",
   "metadata": {},
   "source": [
    "# EDA for the first time"
   ]
  },
  {
   "cell_type": "code",
   "execution_count": 2,
   "metadata": {},
   "outputs": [],
   "source": [
    "import matplotlib.pyplot as plt\n",
    "import seaborn as sns\n",
    "import pandas as pd\n",
    "import numpy as np\n",
    "import scipy.stats as stats"
   ]
  },
  {
   "cell_type": "markdown",
   "metadata": {},
   "source": [
    "# Iris dataset - Read the dataset from a file using Pandas"
   ]
  },
  {
   "cell_type": "code",
   "execution_count": 3,
   "metadata": {},
   "outputs": [
    {
     "data": {
      "text/html": [
       "<div>\n",
       "<style scoped>\n",
       "    .dataframe tbody tr th:only-of-type {\n",
       "        vertical-align: middle;\n",
       "    }\n",
       "\n",
       "    .dataframe tbody tr th {\n",
       "        vertical-align: top;\n",
       "    }\n",
       "\n",
       "    .dataframe thead th {\n",
       "        text-align: right;\n",
       "    }\n",
       "</style>\n",
       "<table border=\"1\" class=\"dataframe\">\n",
       "  <thead>\n",
       "    <tr style=\"text-align: right;\">\n",
       "      <th></th>\n",
       "      <th>sepal_length_cm,sepal_width_cm,petal_length_cm,petal_width_cm,class</th>\n",
       "    </tr>\n",
       "  </thead>\n",
       "  <tbody>\n",
       "    <tr>\n",
       "      <th>0</th>\n",
       "      <td>5.1,3.5,1.4,0.2,Iris-setosa</td>\n",
       "    </tr>\n",
       "    <tr>\n",
       "      <th>1</th>\n",
       "      <td>4.9,3,1.4,0.2,Iris-setosa</td>\n",
       "    </tr>\n",
       "    <tr>\n",
       "      <th>2</th>\n",
       "      <td>4.7,3.2,1.3,0.2,Iris-setosa</td>\n",
       "    </tr>\n",
       "    <tr>\n",
       "      <th>3</th>\n",
       "      <td>4.6,3.1,1.5,0.2,Iris-setosa</td>\n",
       "    </tr>\n",
       "    <tr>\n",
       "      <th>4</th>\n",
       "      <td>5,3.6,1.4,0.2,Iris-setosa</td>\n",
       "    </tr>\n",
       "  </tbody>\n",
       "</table>\n",
       "</div>"
      ],
      "text/plain": [
       "  sepal_length_cm,sepal_width_cm,petal_length_cm,petal_width_cm,class\n",
       "0                        5.1,3.5,1.4,0.2,Iris-setosa                 \n",
       "1                          4.9,3,1.4,0.2,Iris-setosa                 \n",
       "2                        4.7,3.2,1.3,0.2,Iris-setosa                 \n",
       "3                        4.6,3.1,1.5,0.2,Iris-setosa                 \n",
       "4                          5,3.6,1.4,0.2,Iris-setosa                 "
      ]
     },
     "execution_count": 3,
     "metadata": {},
     "output_type": "execute_result"
    }
   ],
   "source": [
    "filename = \"data/iris-data.csv\"\n",
    "df = pd.read_csv(filename, sep='\\t')\n",
    "df.head()"
   ]
  },
  {
   "cell_type": "markdown",
   "metadata": {},
   "source": [
    "**Some problem?** Yes, data are not in colums as we expected."
   ]
  },
  {
   "cell_type": "code",
   "execution_count": 4,
   "metadata": {},
   "outputs": [
    {
     "name": "stdout",
     "output_type": "stream",
     "text": [
      "sepal_length_cm,sepal_width_cm,petal_length_cm,petal_width_cm,class\r",
      "5.1,3.5,1.4,0.2,Iris-setosa\r",
      "4.9,3,1.4,0.2,Iris-setosa\r",
      "4.7,3.2,1.3,0.2,Iris-setosa\r",
      "4.6,3.1,1.5,0.2,Iris-setosa\r",
      "5,3.6,1.4,0.2,Iris-setosa\r",
      "5.4,3.9,1.7,0.4,Iris-setosa\r",
      "4.6,3.4,1.4,0.3,Iris-setosa\r",
      "5,3.4,1.5,NA,Iris-setosa\r",
      "4.4,2.9,1.4,NA,Iris-setosa\r",
      "4.9,3.1,1.5,NA,Iris-setosa\r",
      "5.4,3.7,1.5,NA,Iris-setosa\r",
      "4.8,3.4,1.6,NA,Iris-setosa\r",
      "4.8,3,1.4,0.1,Iris-setosa\r",
      "5.7,3,1.1,0.1,Iris-setosa\r",
      "5.8,4,1.2,0.2,Iris-setosa\r",
      "5.7,4.4,1.5,0.4,Iris-setosa\r",
      "5.4,3.9,1.3,0.4,Iris-setosa\r",
      "5.1,3.5,1.4,0.3,Iris-setosa\r",
      "5.7,3.8,1.7,0.3,Iris-setossa\r",
      "5.1,3.8,1.5,0.3,Iris-setosa\r",
      "5.4,3.4,1.7,0.2,Iris-setosa\r",
      "5.1,3.7,1.5,0.4,Iris-setosa\r",
      "4.6,3.6,1,0.2,Iris-setosa\r",
      "5.1,3.3,1.7,0.5,Iris-setosa\r",
      "4.8,3.4,1.9,0.2,Iris-setosa\r",
      "5,3,1.6,0.2,Iris-setosa\r",
      "5,3.4,1.6,0.4,Iris-setosa\r",
      "5.2,3.5,1.5,0.2,Iris-setosa\r",
      "5.2,3.4,1.4,0.2,Iris-setosa\r",
      "4.7,3.2,1.6,0.2,Iris-setosa\r",
      "4.8,3.1,1.6,0.2,Iris-setosa\r",
      "5.4,3.4,1.5,0.4,Iris-setosa\r",
      "5.2,4.1,1.5,0.1,Iris-setosa\r",
      "5.5,4.2,1.4,0.2,Iris-setosa\r",
      "4.9,3.1,1.5,0.1,Iris-setosa\r",
      "5,3.2,1.2,0.2,Iris-setosa\r",
      "5.5,3.5,1.3,0.2,Iris-setosa\r",
      "4.9,3.1,1.5,0.1,Iris-setosa\r",
      "4.4,3,1.3,0.2,Iris-setosa\r",
      "5.1,3.4,1.5,0.2,Iris-setosa\r",
      "5,3.5,1.3,0.3,Iris-setosa\r",
      "4.5,2.3,1.3,0.3,Iris-setosa\r",
      "4.4,3.2,1.3,0.2,Iris-setosa\r",
      "5,3.5,1.6,0.6,Iris-setosa\r",
      "5.1,3.8,1.9,0.4,Iris-setosa\r",
      "4.8,3,1.4,0.3,Iris-setosa\r",
      "5.1,3.8,1.6,0.2,Iris-setosa\r",
      "4.6,3.2,1.4,0.2,Iris-setosa\r",
      "5.3,3.7,1.5,0.2,Iris-setosa\r",
      "5,3.3,1.4,0.2,Iris-setosa\r",
      "7,3.2,4.7,1.4,Iris-versicolor\r",
      "6.4,3.2,4.5,1.5,Iris-versicolor\r",
      "6.9,3.1,4.9,1.5,Iris-versicolor\r",
      "5.5,2.3,4,1.3,Iris-versicolor\r",
      "6.5,2.8,4.6,1.5,Iris-versicolor\r",
      "5.7,2.8,4.5,1.3,Iris-versicolor\r",
      "6.3,3.3,4.7,1.6,Iris-versicolor\r",
      "4.9,2.4,3.3,1,Iris-versicolor\r",
      "6.6,2.9,4.6,1.3,Iris-versicolor\r",
      "5.2,2.7,3.9,1.4,Iris-versicolor\r",
      "5,2,3.5,1,Iris-versicolor\r",
      "5.9,3,4.2,1.5,Iris-versicolor\r",
      "6,2.2,4,1,Iris-versicolor\r",
      "6.1,2.9,4.7,1.4,Iris-versicolor\r",
      "5.6,2.9,3.6,1.3,Iris-versicolor\r",
      "6.7,3.1,4.4,1.4,Iris-versicolor\r",
      "5.6,3,4.5,1.5,Iris-versicolor\r",
      "5.8,2.7,4.1,1,Iris-versicolor\r",
      "6.2,2.2,4.5,1.5,Iris-versicolor\r",
      "5.6,2.5,3.9,1.1,Iris-versicolor\r",
      "5.9,3.2,4.8,1.8,Iris-versicolor\r",
      "6.1,2.8,4,1.3,Iris-versicolor\r",
      "6.3,2.5,4.9,1.5,Iris-versicolor\r",
      "6.1,2.8,4.7,1.2,Iris-versicolor\r",
      "6.4,2.9,4.3,1.3,Iris-versicolor\r",
      "6.6,3,4.4,1.4,Iris-versicolor\r",
      "6.8,2.8,4.8,1.4,Iris-versicolor\r",
      "0.067,3,5,1.7,Iris-versicolor\r",
      "0.06,2.9,4.5,1.5,Iris-versicolor\r",
      "0.057,2.6,3.5,1,Iris-versicolor\r",
      "0.055,2.4,3.8,1.1,Iris-versicolor\r",
      "0.055,2.4,3.7,1,Iris-versicolor\r",
      "5.8,2.7,3.9,1.2,Iris-versicolor\r",
      "6,2.8,5.1,1.6,Iris-versicolor\r",
      "5.4,3,4.5,1.5,Iris-versicolor\r",
      "6,3.4,4.5,1.6,Iris-versicolor\r",
      "6.7,3.1,4.7,1.5,Iris-versicolor\r",
      "6.3,2.3,4.4,1.3,Iris-versicolor\r",
      "5.6,3,4.1,1.3,Iris-versicolor\r",
      "5.5,2.5,4,1.3,Iris-versicolor\r",
      "5.5,2.6,4.4,1.2,Iris-versicolor\r",
      "6.1,3,4.6,1.4,Iris-versicolor\r",
      "5.8,2.6,4,1.2,Iris-versicolor\r",
      "5,2.3,3.3,1,Iris-versicolor\r",
      "5.6,2.7,4.2,1.3,Iris-versicolor\r",
      "5.7,3,4.2,1.2,versicolor\r",
      "5.7,2.9,4.2,1.3,versicolor\r",
      "6.2,2.9,4.3,1.3,versicolor\r",
      "5.1,2.5,3,1.1,versicolor\r",
      "5.7,2.8,4.1,1.3,versicolor\r",
      "6.3,3.3,6,2.5,Iris-virginica\r",
      "5.8,2.7,5.1,1.9,Iris-virginica\r",
      "7.1,3,5.9,2.1,Iris-virginica\r",
      "6.3,2.9,5.6,1.8,Iris-virginica\r",
      "6.5,3,5.8,2.2,Iris-virginica\r",
      "7.6,3,6.6,2.1,Iris-virginica\r",
      "4.9,2.5,4.5,1.7,Iris-virginica\r",
      "7.3,2.9,6.3,1.8,Iris-virginica\r",
      "6.7,2.5,5.8,1.8,Iris-virginica\r",
      "7.2,3.6,6.1,2.5,Iris-virginica\r",
      "6.5,3.2,5.1,2,Iris-virginica\r",
      "6.4,2.7,5.3,1.9,Iris-virginica\r",
      "6.8,3,5.5,2.1,Iris-virginica\r",
      "5.7,2.5,5,2,Iris-virginica\r",
      "5.8,2.8,5.1,2.4,Iris-virginica\r",
      "6.4,3.2,5.3,2.3,Iris-virginica\r",
      "6.5,3,5.5,1.8,Iris-virginica\r",
      "7.7,3.8,6.7,2.2,Iris-virginica\r",
      "7.7,2.6,6.9,2.3,Iris-virginica\r",
      "6,2.2,5,1.5,Iris-virginica\r",
      "6.9,3.2,5.7,2.3,Iris-virginica\r",
      "5.6,2.8,4.9,2,Iris-virginica\r",
      "5.6,2.8,6.7,2,Iris-virginica\r",
      "6.3,2.7,4.9,1.8,Iris-virginica\r",
      "6.7,3.3,5.7,2.1,Iris-virginica\r",
      "7.2,3.2,6,1.8,Iris-virginica\r",
      "6.2,2.8,4.8,1.8,Iris-virginica\r",
      "6.1,3,4.9,1.8,Iris-virginica\r",
      "6.4,2.8,5.6,2.1,Iris-virginica\r",
      "7.2,3,5.8,1.6,Iris-virginica\r",
      "7.4,2.8,6.1,1.9,Iris-virginica\r",
      "7.9,3.8,6.4,2,Iris-virginica\r",
      "6.4,2.8,5.6,2.2,Iris-virginica\r",
      "6.3,2.8,5.1,1.5,Iris-virginica\r",
      "6.1,2.6,5.6,1.4,Iris-virginica\r",
      "7.7,3,6.1,2.3,Iris-virginica\r",
      "6.3,3.4,5.6,2.4,Iris-virginica\r",
      "6.4,3.1,5.5,1.8,Iris-virginica\r",
      "6,3,4.8,1.8,Iris-virginica\r",
      "6.9,3.1,5.4,2.1,Iris-virginica\r",
      "6.7,3.1,5.6,2.4,Iris-virginica\r",
      "6.9,3.1,5.1,2.3,Iris-virginica\r",
      "5.8,2.7,5.1,1.9,Iris-virginica\r",
      "6.8,3.2,5.9,2.3,Iris-virginica\r",
      "6.7,3.3,5.7,2.5,Iris-virginica\r",
      "6.7,3,5.2,2.3,Iris-virginica\r",
      "6.3,2.5,5,2.3,Iris-virginica\r",
      "6.5,3,5.2,2,Iris-virginica\r",
      "6.2,3.4,5.4,2.3,Iris-virginica\r",
      "5.9,3,5.1,1.8,Iris-virginica"
     ]
    }
   ],
   "source": [
    "%%bash\n",
    " head data/iris-data.csv"
   ]
  },
  {
   "cell_type": "code",
   "execution_count": 5,
   "metadata": {},
   "outputs": [
    {
     "data": {
      "text/html": [
       "<div>\n",
       "<style scoped>\n",
       "    .dataframe tbody tr th:only-of-type {\n",
       "        vertical-align: middle;\n",
       "    }\n",
       "\n",
       "    .dataframe tbody tr th {\n",
       "        vertical-align: top;\n",
       "    }\n",
       "\n",
       "    .dataframe thead th {\n",
       "        text-align: right;\n",
       "    }\n",
       "</style>\n",
       "<table border=\"1\" class=\"dataframe\">\n",
       "  <thead>\n",
       "    <tr style=\"text-align: right;\">\n",
       "      <th></th>\n",
       "      <th>sepal_length_cm</th>\n",
       "      <th>sepal_width_cm</th>\n",
       "      <th>petal_length_cm</th>\n",
       "      <th>petal_width_cm</th>\n",
       "      <th>class</th>\n",
       "    </tr>\n",
       "  </thead>\n",
       "  <tbody>\n",
       "    <tr>\n",
       "      <th>0</th>\n",
       "      <td>5.1</td>\n",
       "      <td>3.5</td>\n",
       "      <td>1.4</td>\n",
       "      <td>0.2</td>\n",
       "      <td>Iris-setosa</td>\n",
       "    </tr>\n",
       "    <tr>\n",
       "      <th>1</th>\n",
       "      <td>4.9</td>\n",
       "      <td>3.0</td>\n",
       "      <td>1.4</td>\n",
       "      <td>0.2</td>\n",
       "      <td>Iris-setosa</td>\n",
       "    </tr>\n",
       "    <tr>\n",
       "      <th>2</th>\n",
       "      <td>4.7</td>\n",
       "      <td>3.2</td>\n",
       "      <td>1.3</td>\n",
       "      <td>0.2</td>\n",
       "      <td>Iris-setosa</td>\n",
       "    </tr>\n",
       "    <tr>\n",
       "      <th>3</th>\n",
       "      <td>4.6</td>\n",
       "      <td>3.1</td>\n",
       "      <td>1.5</td>\n",
       "      <td>0.2</td>\n",
       "      <td>Iris-setosa</td>\n",
       "    </tr>\n",
       "    <tr>\n",
       "      <th>4</th>\n",
       "      <td>5.0</td>\n",
       "      <td>3.6</td>\n",
       "      <td>1.4</td>\n",
       "      <td>0.2</td>\n",
       "      <td>Iris-setosa</td>\n",
       "    </tr>\n",
       "  </tbody>\n",
       "</table>\n",
       "</div>"
      ],
      "text/plain": [
       "   sepal_length_cm  sepal_width_cm  petal_length_cm  petal_width_cm  \\\n",
       "0              5.1             3.5              1.4             0.2   \n",
       "1              4.9             3.0              1.4             0.2   \n",
       "2              4.7             3.2              1.3             0.2   \n",
       "3              4.6             3.1              1.5             0.2   \n",
       "4              5.0             3.6              1.4             0.2   \n",
       "\n",
       "         class  \n",
       "0  Iris-setosa  \n",
       "1  Iris-setosa  \n",
       "2  Iris-setosa  \n",
       "3  Iris-setosa  \n",
       "4  Iris-setosa  "
      ]
     },
     "execution_count": 5,
     "metadata": {},
     "output_type": "execute_result"
    }
   ],
   "source": [
    "# https://pandas.pydata.org/pandas-docs/stable/reference/api/pandas.read_csv.html\n",
    "df = pd.read_csv(filename, sep=',')\n",
    "df.head()"
   ]
  },
  {
   "cell_type": "markdown",
   "metadata": {},
   "source": [
    "## Identify problems in data = Práca v rámci predspracovania"
   ]
  },
  {
   "cell_type": "markdown",
   "metadata": {},
   "source": [
    "**The word `class` as a column name ... hm ... Is it one of the reserved Keywords in Python?**"
   ]
  },
  {
   "cell_type": "code",
   "execution_count": 6,
   "metadata": {},
   "outputs": [
    {
     "ename": "SyntaxError",
     "evalue": "invalid syntax (<ipython-input-6-bf9413a47d9e>, line 1)",
     "output_type": "error",
     "traceback": [
      "\u001b[0;36m  File \u001b[0;32m\"<ipython-input-6-bf9413a47d9e>\"\u001b[0;36m, line \u001b[0;32m1\u001b[0m\n\u001b[0;31m    df.class.unique()\u001b[0m\n\u001b[0m       ^\u001b[0m\n\u001b[0;31mSyntaxError\u001b[0m\u001b[0;31m:\u001b[0m invalid syntax\n"
     ]
    }
   ],
   "source": [
    "df.class.unique()"
   ]
  },
  {
   "cell_type": "markdown",
   "metadata": {},
   "source": [
    "**How can I write a such code correctly?**"
   ]
  },
  {
   "cell_type": "code",
   "execution_count": null,
   "metadata": {},
   "outputs": [],
   "source": [
    "df['class'].unique()"
   ]
  },
  {
   "cell_type": "markdown",
   "metadata": {},
   "source": [
    "**Rename the `class` column?**"
   ]
  },
  {
   "cell_type": "code",
   "execution_count": null,
   "metadata": {},
   "outputs": [],
   "source": [
    "df.rename(columns = {'class':'species'}, inplace = True)\n",
    "df.species.unique()"
   ]
  },
  {
   "cell_type": "markdown",
   "metadata": {},
   "source": [
    "**Strange values, which look like human mistakes? Rename them? This operation *rename* can be dangerous**"
   ]
  },
  {
   "cell_type": "code",
   "execution_count": null,
   "metadata": {},
   "outputs": [],
   "source": [
    "df['species'] = df['species'].str.replace('Iris-setossa','setosa')\n",
    "df['species'] = df['species'].str.replace('Iris-setosa','setosa')\n",
    "df['species'] = df['species'].str.replace('Iris-versicolor','versicolor')\n",
    "df['species'] = df['species'].str.replace('Iris-virginica','virginica')"
   ]
  },
  {
   "cell_type": "code",
   "execution_count": null,
   "metadata": {},
   "outputs": [],
   "source": [
    "df.species.unique()"
   ]
  },
  {
   "cell_type": "markdown",
   "metadata": {},
   "source": [
    "**Shorter column names?**"
   ]
  },
  {
   "cell_type": "code",
   "execution_count": null,
   "metadata": {},
   "outputs": [],
   "source": [
    "df = df.rename({'sepal_length_cm': 'sepal_length', 'sepal_width_cm': 'sepal_width', 'petal_length_cm': 'petal_length', 'petal_width_cm': 'petal_width'}, axis='columns')\n",
    "df"
   ]
  },
  {
   "cell_type": "code",
   "execution_count": null,
   "metadata": {},
   "outputs": [],
   "source": [
    "df.groupby('species').size()"
   ]
  },
  {
   "cell_type": "markdown",
   "metadata": {},
   "source": [
    "**Missing values? NaN values?**"
   ]
  },
  {
   "cell_type": "code",
   "execution_count": null,
   "metadata": {},
   "outputs": [],
   "source": [
    "df.shape[0]"
   ]
  },
  {
   "cell_type": "code",
   "execution_count": null,
   "metadata": {},
   "outputs": [],
   "source": [
    "df.dropna().shape[0]"
   ]
  },
  {
   "cell_type": "code",
   "execution_count": null,
   "metadata": {},
   "outputs": [],
   "source": [
    "df.shape[0] - df.dropna().shape[0]"
   ]
  },
  {
   "cell_type": "code",
   "execution_count": null,
   "metadata": {},
   "outputs": [],
   "source": [
    "df.isnull().sum()"
   ]
  },
  {
   "cell_type": "code",
   "execution_count": null,
   "metadata": {},
   "outputs": [],
   "source": [
    "df.isnull().sum().sum()"
   ]
  },
  {
   "cell_type": "code",
   "execution_count": null,
   "metadata": {},
   "outputs": [],
   "source": [
    "df[df.isnull().any(axis=1)]"
   ]
  },
  {
   "cell_type": "markdown",
   "metadata": {},
   "source": [
    "## Save the dataframe to a file ..."
   ]
  },
  {
   "cell_type": "code",
   "execution_count": null,
   "metadata": {},
   "outputs": [],
   "source": [
    "df.to_csv('data/iris-data-output.tsv', sep='\\t', index=False, encoding='utf-8')"
   ]
  },
  {
   "cell_type": "markdown",
   "metadata": {},
   "source": [
    "# Visualization: Iris dataset"
   ]
  },
  {
   "cell_type": "code",
   "execution_count": null,
   "metadata": {},
   "outputs": [],
   "source": [
    "import matplotlib.pyplot as plt\n",
    "import seaborn as sns\n",
    "import numpy as np\n",
    "import scipy.stats as stats"
   ]
  },
  {
   "cell_type": "code",
   "execution_count": null,
   "metadata": {},
   "outputs": [],
   "source": [
    "iris = sns.load_dataset(\"iris\")"
   ]
  },
  {
   "cell_type": "markdown",
   "metadata": {},
   "source": [
    "### Describe the data together with their characteristics = Descriptive statistics = Deskriptívna štatistika"
   ]
  },
  {
   "cell_type": "code",
   "execution_count": null,
   "metadata": {},
   "outputs": [],
   "source": [
    "iris.shape"
   ]
  },
  {
   "cell_type": "code",
   "execution_count": null,
   "metadata": {},
   "outputs": [],
   "source": [
    "print(iris.head(10))"
   ]
  },
  {
   "cell_type": "code",
   "execution_count": null,
   "metadata": {},
   "outputs": [],
   "source": [
    "iris.info()"
   ]
  },
  {
   "cell_type": "code",
   "execution_count": null,
   "metadata": {},
   "outputs": [],
   "source": [
    "iris.describe()"
   ]
  },
  {
   "cell_type": "code",
   "execution_count": null,
   "metadata": {},
   "outputs": [],
   "source": [
    "iris.species.unique()"
   ]
  },
  {
   "cell_type": "code",
   "execution_count": null,
   "metadata": {},
   "outputs": [],
   "source": [
    "iris.groupby('species').size()"
   ]
  },
  {
   "cell_type": "markdown",
   "metadata": {},
   "source": [
    "**Univariate analysis** (Mean, Median, Modus, Variance, Standard Deviation) = **Analýza jednotlivých atribútov**"
   ]
  },
  {
   "cell_type": "code",
   "execution_count": null,
   "metadata": {},
   "outputs": [],
   "source": [
    "iris['petal_length'].mean()"
   ]
  },
  {
   "cell_type": "code",
   "execution_count": null,
   "metadata": {},
   "outputs": [],
   "source": [
    "iris['petal_length'].median()"
   ]
  },
  {
   "cell_type": "code",
   "execution_count": null,
   "metadata": {},
   "outputs": [],
   "source": [
    "stats.mode(iris['petal_length'])"
   ]
  },
  {
   "cell_type": "code",
   "execution_count": null,
   "metadata": {},
   "outputs": [],
   "source": [
    "np.var(iris['petal_length'])"
   ]
  },
  {
   "cell_type": "code",
   "execution_count": null,
   "metadata": {},
   "outputs": [],
   "source": [
    "np.std(iris['petal_length'])"
   ]
  },
  {
   "cell_type": "markdown",
   "metadata": {},
   "source": [
    "### Formulate and verify data hypotheses = Data visualization + inference statistics"
   ]
  },
  {
   "cell_type": "code",
   "execution_count": null,
   "metadata": {},
   "outputs": [],
   "source": [
    "sns.boxplot(data=iris, x=\"sepal_length\", y=\"species\")"
   ]
  },
  {
   "cell_type": "code",
   "execution_count": null,
   "metadata": {},
   "outputs": [],
   "source": [
    "sns.boxplot(data=iris, x=\"petal_length\", y=\"species\")"
   ]
  },
  {
   "cell_type": "code",
   "execution_count": null,
   "metadata": {},
   "outputs": [],
   "source": [
    "iris.plot(kind='box', subplots=True, layout=(2,2), sharex=False, sharey=False)"
   ]
  },
  {
   "cell_type": "code",
   "execution_count": null,
   "metadata": {},
   "outputs": [],
   "source": [
    "iris.hist()"
   ]
  },
  {
   "cell_type": "code",
   "execution_count": null,
   "metadata": {},
   "outputs": [],
   "source": [
    "# sns.distplot(iris['petal_length'], bins=10)\n",
    "sns.displot(iris['petal_length'], bins=10)"
   ]
  },
  {
   "cell_type": "code",
   "execution_count": null,
   "metadata": {},
   "outputs": [],
   "source": [
    "# sns.distplot(iris['petal_width'], bins=10)\n",
    "sns.histplot(iris['petal_width'], bins=10)"
   ]
  },
  {
   "cell_type": "markdown",
   "metadata": {},
   "source": [
    "### Identify relationships between attributes = Dependencies e.g. correlations = Závislosti napr. korelácie \n",
    "**Bivariate analysis = Párová analýza**"
   ]
  },
  {
   "cell_type": "code",
   "execution_count": null,
   "metadata": {},
   "outputs": [],
   "source": [
    "sns.scatterplot(data=iris, x='petal_length', y='petal_width')"
   ]
  },
  {
   "cell_type": "code",
   "execution_count": null,
   "metadata": {},
   "outputs": [],
   "source": [
    "sns.regplot(x=\"petal_length\", y=\"petal_width\", data=iris)"
   ]
  },
  {
   "cell_type": "code",
   "execution_count": null,
   "metadata": {},
   "outputs": [],
   "source": [
    "print(\"Pearson correlation: %.3f\" % iris.petal_length.corr(iris.petal_width))"
   ]
  },
  {
   "cell_type": "code",
   "execution_count": null,
   "metadata": {},
   "outputs": [],
   "source": [
    "iris.corr()"
   ]
  },
  {
   "cell_type": "code",
   "execution_count": null,
   "metadata": {
    "scrolled": false
   },
   "outputs": [],
   "source": [
    "sns.pairplot(iris, hue=\"species\")"
   ]
  },
  {
   "cell_type": "code",
   "execution_count": null,
   "metadata": {},
   "outputs": [],
   "source": [
    "fig, ax = plt.subplots(figsize=(10,8))\n",
    "sns.heatmap(iris.corr(), ax=ax, annot=True, fmt=\".3f\")"
   ]
  },
  {
   "cell_type": "code",
   "execution_count": null,
   "metadata": {},
   "outputs": [],
   "source": [
    "sns.set(rc={'figure.figsize':(36,8)})\n",
    "sns.violinplot(data=iris, x='sepal_length', y='sepal_width', hue=\"species\")"
   ]
  },
  {
   "cell_type": "markdown",
   "metadata": {},
   "source": [
    "### Identify problems in data = Data preprocessing\n",
    "**Remove missing values?**"
   ]
  },
  {
   "cell_type": "code",
   "execution_count": null,
   "metadata": {},
   "outputs": [],
   "source": [
    "iris.shape[0]"
   ]
  },
  {
   "cell_type": "code",
   "execution_count": null,
   "metadata": {},
   "outputs": [],
   "source": [
    "iris.dropna().shape[0]"
   ]
  },
  {
   "cell_type": "code",
   "execution_count": null,
   "metadata": {},
   "outputs": [],
   "source": [
    "iris.shape[0] - iris.dropna().shape[0]"
   ]
  },
  {
   "cell_type": "markdown",
   "metadata": {},
   "source": [
    "**Empty rows?**"
   ]
  },
  {
   "cell_type": "code",
   "execution_count": null,
   "metadata": {},
   "outputs": [],
   "source": [
    "iris.isnull()"
   ]
  },
  {
   "cell_type": "code",
   "execution_count": null,
   "metadata": {},
   "outputs": [],
   "source": [
    "iris[iris.isnull().any(axis=1)]"
   ]
  },
  {
   "cell_type": "markdown",
   "metadata": {},
   "source": [
    "# Visualization: Tips dataset"
   ]
  },
  {
   "cell_type": "code",
   "execution_count": null,
   "metadata": {},
   "outputs": [],
   "source": [
    "import matplotlib.pyplot as plt\n",
    "import seaborn as sns\n",
    "import numpy as np\n",
    "import scipy.stats as stats"
   ]
  },
  {
   "cell_type": "code",
   "execution_count": null,
   "metadata": {},
   "outputs": [],
   "source": [
    "tips = sns.load_dataset(\"tips\")\n",
    "print(tips.shape)"
   ]
  },
  {
   "cell_type": "markdown",
   "metadata": {},
   "source": [
    "**Your code:**"
   ]
  },
  {
   "cell_type": "code",
   "execution_count": null,
   "metadata": {},
   "outputs": [],
   "source": []
  }
 ],
 "metadata": {
  "kernelspec": {
   "display_name": "Python 3",
   "language": "python",
   "name": "python3"
  },
  "language_info": {
   "codemirror_mode": {
    "name": "ipython",
    "version": 3
   },
   "file_extension": ".py",
   "mimetype": "text/x-python",
   "name": "python",
   "nbconvert_exporter": "python",
   "pygments_lexer": "ipython3",
   "version": "3.8.2"
  }
 },
 "nbformat": 4,
 "nbformat_minor": 4
}
